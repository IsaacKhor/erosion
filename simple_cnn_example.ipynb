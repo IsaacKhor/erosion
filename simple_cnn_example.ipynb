{
 "cells": [
  {
   "cell_type": "code",
   "execution_count": 39,
   "id": "1963342b",
   "metadata": {},
   "outputs": [],
   "source": [
    "import numpy as np\n",
    "import tensorflow as tf\n",
    "from tensorflow import keras\n",
    "import matplotlib.pyplot as plt\n",
    "\n",
    "from sklearn.model_selection import train_test_split"
   ]
  },
  {
   "cell_type": "code",
   "execution_count": 4,
   "id": "27dc547f",
   "metadata": {},
   "outputs": [],
   "source": [
    "labels = np.load('processed_labels.npy')\n",
    "data = np.load('processed_data.npy')"
   ]
  },
  {
   "cell_type": "code",
   "execution_count": 51,
   "id": "2080b33f",
   "metadata": {},
   "outputs": [
    {
     "name": "stdout",
     "output_type": "stream",
     "text": [
      "Model: \"sequential_5\"\n",
      "_________________________________________________________________\n",
      "Layer (type)                 Output Shape              Param #   \n",
      "=================================================================\n",
      "reshape_6 (Reshape)          (None, 50, 50, 1)         0         \n",
      "_________________________________________________________________\n",
      "conv2d_15 (Conv2D)           (None, 48, 48, 16)        160       \n",
      "_________________________________________________________________\n",
      "max_pooling2d_15 (MaxPooling (None, 24, 24, 16)        0         \n",
      "_________________________________________________________________\n",
      "dropout_20 (Dropout)         (None, 24, 24, 16)        0         \n",
      "_________________________________________________________________\n",
      "conv2d_16 (Conv2D)           (None, 22, 22, 32)        4640      \n",
      "_________________________________________________________________\n",
      "max_pooling2d_16 (MaxPooling (None, 11, 11, 32)        0         \n",
      "_________________________________________________________________\n",
      "dropout_21 (Dropout)         (None, 11, 11, 32)        0         \n",
      "_________________________________________________________________\n",
      "conv2d_17 (Conv2D)           (None, 9, 9, 64)          18496     \n",
      "_________________________________________________________________\n",
      "max_pooling2d_17 (MaxPooling (None, 4, 4, 64)          0         \n",
      "_________________________________________________________________\n",
      "dropout_22 (Dropout)         (None, 4, 4, 64)          0         \n",
      "_________________________________________________________________\n",
      "flatten_5 (Flatten)          (None, 1024)              0         \n",
      "_________________________________________________________________\n",
      "dense_15 (Dense)             (None, 64)                65600     \n",
      "_________________________________________________________________\n",
      "dense_16 (Dense)             (None, 128)               8320      \n",
      "_________________________________________________________________\n",
      "dropout_23 (Dropout)         (None, 128)               0         \n",
      "_________________________________________________________________\n",
      "dense_17 (Dense)             (None, 2)                 258       \n",
      "=================================================================\n",
      "Total params: 97,474\n",
      "Trainable params: 97,474\n",
      "Non-trainable params: 0\n",
      "_________________________________________________________________\n"
     ]
    }
   ],
   "source": [
    "# Simple example CNN\n",
    "# Bog standard image recognition toy architecture\n",
    "\n",
    "model = keras.models.Sequential([\n",
    "    keras.layers.Reshape([50, 50, 1], input_shape=[50, 50]),\n",
    "    keras.layers.Conv2D(16, kernel_size=3, activation='relu'),\n",
    "    keras.layers.MaxPool2D(pool_size=2),\n",
    "    keras.layers.Dropout(0.25),\n",
    "    keras.layers.Conv2D(32, kernel_size=3, activation='relu'),\n",
    "    keras.layers.MaxPool2D(pool_size=2),\n",
    "    keras.layers.Dropout(0.25),\n",
    "    keras.layers.Conv2D(64, kernel_size=3, activation='relu'),\n",
    "    keras.layers.MaxPool2D(pool_size=2),\n",
    "    keras.layers.Dropout(0.25),\n",
    "    keras.layers.Flatten(),\n",
    "    keras.layers.Dense(64),\n",
    "    keras.layers.Dense(128),\n",
    "    keras.layers.Dropout(0.25),\n",
    "    keras.layers.Dense(2, activation='softmax')\n",
    "])\n",
    "\n",
    "model.compile(loss='binary_crossentropy', optimizer='adam', metrics=['accuracy'])\n",
    "model.summary()"
   ]
  },
  {
   "cell_type": "code",
   "execution_count": 48,
   "id": "29e9e95a",
   "metadata": {},
   "outputs": [],
   "source": [
    "# Convert data into a format we can actually feed into keras\n",
    "# For this example, treat each image idependently of each other\n",
    "# So we turn a [4000,200,50,50] array into [sample_size,50,50]\n",
    "# And also generate the corresponding y array of [sample_size, output_size]\n",
    "\n",
    "x_all = list()\n",
    "y_all = list()\n",
    "for i,x in enumerate(data[:200]):\n",
    "    label = labels[i].tolist()\n",
    "    if label == [0.5, 0.5]:\n",
    "        continue\n",
    "    x = x[30:175]\n",
    "    x_all += x.tolist()\n",
    "    y_all += [labels[i]]*145\n",
    "    \n",
    "x_all = np.asarray(x_all)\n",
    "y_all = np.asarray(y_all)\n",
    "x_train, x_test, y_train, y_test = train_test_split(x_all, y_all, test_size=0.2, random_state=42)"
   ]
  },
  {
   "cell_type": "code",
   "execution_count": 52,
   "id": "b441372a",
   "metadata": {},
   "outputs": [
    {
     "name": "stdout",
     "output_type": "stream",
     "text": [
      "Epoch 1/50\n",
      "566/566 [==============================] - 10s 15ms/step - loss: 0.5760 - accuracy: 0.7976 - val_loss: 0.2136 - val_accuracy: 0.8915\n",
      "Epoch 2/50\n",
      "566/566 [==============================] - 8s 15ms/step - loss: 0.2338 - accuracy: 0.8541 - val_loss: 0.1734 - val_accuracy: 0.8798\n",
      "Epoch 3/50\n",
      "566/566 [==============================] - 8s 15ms/step - loss: 0.2020 - accuracy: 0.8668 - val_loss: 0.1592 - val_accuracy: 0.8782\n",
      "Epoch 4/50\n",
      "566/566 [==============================] - 8s 15ms/step - loss: 0.1816 - accuracy: 0.8720 - val_loss: 0.1502 - val_accuracy: 0.8924\n",
      "Epoch 5/50\n",
      "566/566 [==============================] - 8s 15ms/step - loss: 0.1673 - accuracy: 0.8727 - val_loss: 0.1333 - val_accuracy: 0.8888\n",
      "Epoch 6/50\n",
      "566/566 [==============================] - 8s 15ms/step - loss: 0.1574 - accuracy: 0.8778 - val_loss: 0.1215 - val_accuracy: 0.9109\n",
      "Epoch 7/50\n",
      "566/566 [==============================] - 8s 15ms/step - loss: 0.1535 - accuracy: 0.8821 - val_loss: 0.1156 - val_accuracy: 0.8970\n",
      "Epoch 8/50\n",
      "566/566 [==============================] - 8s 15ms/step - loss: 0.1441 - accuracy: 0.8829 - val_loss: 0.1167 - val_accuracy: 0.8806\n",
      "Epoch 9/50\n",
      "566/566 [==============================] - 8s 14ms/step - loss: 0.1374 - accuracy: 0.8872 - val_loss: 0.1130 - val_accuracy: 0.9273\n",
      "Epoch 10/50\n",
      "566/566 [==============================] - 8s 15ms/step - loss: 0.1346 - accuracy: 0.8895 - val_loss: 0.1119 - val_accuracy: 0.8546\n",
      "Epoch 11/50\n",
      "566/566 [==============================] - 8s 15ms/step - loss: 0.1344 - accuracy: 0.8841 - val_loss: 0.1077 - val_accuracy: 0.9003\n",
      "Epoch 12/50\n",
      "566/566 [==============================] - 8s 15ms/step - loss: 0.1277 - accuracy: 0.8899 - val_loss: 0.1065 - val_accuracy: 0.8857\n",
      "Epoch 13/50\n",
      "566/566 [==============================] - 8s 15ms/step - loss: 0.1180 - accuracy: 0.8890 - val_loss: 0.0920 - val_accuracy: 0.8957\n",
      "Epoch 14/50\n",
      "566/566 [==============================] - 8s 15ms/step - loss: 0.1186 - accuracy: 0.8850 - val_loss: 0.0986 - val_accuracy: 0.9014\n",
      "Epoch 15/50\n",
      "566/566 [==============================] - 8s 15ms/step - loss: 0.1124 - accuracy: 0.8896 - val_loss: 0.0887 - val_accuracy: 0.9072\n",
      "Epoch 16/50\n",
      "566/566 [==============================] - 8s 15ms/step - loss: 0.1097 - accuracy: 0.8909 - val_loss: 0.0944 - val_accuracy: 0.8999\n",
      "Epoch 17/50\n",
      "566/566 [==============================] - 8s 15ms/step - loss: 0.1108 - accuracy: 0.8938 - val_loss: 0.0868 - val_accuracy: 0.9122\n",
      "Epoch 18/50\n",
      "566/566 [==============================] - 8s 14ms/step - loss: 0.1070 - accuracy: 0.8943 - val_loss: 0.0858 - val_accuracy: 0.8972\n",
      "Epoch 19/50\n",
      "566/566 [==============================] - 8s 15ms/step - loss: 0.1063 - accuracy: 0.8864 - val_loss: 0.0844 - val_accuracy: 0.8835\n",
      "Epoch 20/50\n",
      "566/566 [==============================] - 8s 15ms/step - loss: 0.1043 - accuracy: 0.8893 - val_loss: 0.0859 - val_accuracy: 0.8879\n",
      "Epoch 21/50\n",
      "566/566 [==============================] - 8s 14ms/step - loss: 0.0981 - accuracy: 0.8919 - val_loss: 0.0799 - val_accuracy: 0.9043\n",
      "Epoch 22/50\n",
      "566/566 [==============================] - 8s 15ms/step - loss: 0.1017 - accuracy: 0.8942 - val_loss: 0.0827 - val_accuracy: 0.9027\n",
      "Epoch 23/50\n",
      "566/566 [==============================] - 9s 15ms/step - loss: 0.0985 - accuracy: 0.8975 - val_loss: 0.0768 - val_accuracy: 0.8773\n",
      "Epoch 24/50\n",
      "566/566 [==============================] - 8s 15ms/step - loss: 0.0952 - accuracy: 0.8940 - val_loss: 0.0728 - val_accuracy: 0.9162\n",
      "Epoch 25/50\n",
      "566/566 [==============================] - 9s 15ms/step - loss: 0.0970 - accuracy: 0.8984 - val_loss: 0.0760 - val_accuracy: 0.9001\n",
      "Epoch 26/50\n",
      "566/566 [==============================] - 8s 15ms/step - loss: 0.0972 - accuracy: 0.8966 - val_loss: 0.0810 - val_accuracy: 0.9027\n",
      "Epoch 27/50\n",
      "566/566 [==============================] - 8s 15ms/step - loss: 0.0880 - accuracy: 0.8945 - val_loss: 0.0757 - val_accuracy: 0.8660\n",
      "Epoch 28/50\n",
      "566/566 [==============================] - 8s 15ms/step - loss: 0.0918 - accuracy: 0.8982 - val_loss: 0.0723 - val_accuracy: 0.9016\n",
      "Epoch 29/50\n",
      "566/566 [==============================] - 10s 17ms/step - loss: 0.0920 - accuracy: 0.8924 - val_loss: 0.0722 - val_accuracy: 0.9125\n",
      "Epoch 30/50\n",
      "566/566 [==============================] - 9s 15ms/step - loss: 0.0945 - accuracy: 0.8904 - val_loss: 0.0738 - val_accuracy: 0.9255\n",
      "Epoch 31/50\n",
      "566/566 [==============================] - 8s 15ms/step - loss: 0.0882 - accuracy: 0.8927 - val_loss: 0.0751 - val_accuracy: 0.9173\n",
      "Epoch 32/50\n",
      "566/566 [==============================] - 8s 15ms/step - loss: 0.0890 - accuracy: 0.8953 - val_loss: 0.0691 - val_accuracy: 0.9065\n",
      "Epoch 33/50\n",
      "566/566 [==============================] - 8s 15ms/step - loss: 0.0887 - accuracy: 0.8985 - val_loss: 0.0710 - val_accuracy: 0.8873\n",
      "Epoch 34/50\n",
      "566/566 [==============================] - 8s 15ms/step - loss: 0.0881 - accuracy: 0.8956 - val_loss: 0.0748 - val_accuracy: 0.9209\n",
      "Epoch 35/50\n",
      "566/566 [==============================] - 8s 14ms/step - loss: 0.0877 - accuracy: 0.8958 - val_loss: 0.0695 - val_accuracy: 0.8915\n",
      "Epoch 36/50\n",
      "566/566 [==============================] - 8s 15ms/step - loss: 0.0858 - accuracy: 0.8948 - val_loss: 0.0665 - val_accuracy: 0.9122\n",
      "Epoch 37/50\n",
      "566/566 [==============================] - 8s 15ms/step - loss: 0.0862 - accuracy: 0.8970 - val_loss: 0.0713 - val_accuracy: 0.8806\n",
      "Epoch 38/50\n",
      "566/566 [==============================] - 8s 15ms/step - loss: 0.0901 - accuracy: 0.8924 - val_loss: 0.0706 - val_accuracy: 0.8784\n",
      "Epoch 39/50\n",
      "566/566 [==============================] - 8s 15ms/step - loss: 0.0803 - accuracy: 0.8958 - val_loss: 0.0676 - val_accuracy: 0.9503\n",
      "Epoch 40/50\n",
      "566/566 [==============================] - 8s 15ms/step - loss: 0.0835 - accuracy: 0.9013 - val_loss: 0.0670 - val_accuracy: 0.8811\n",
      "Epoch 41/50\n",
      "566/566 [==============================] - 8s 14ms/step - loss: 0.0863 - accuracy: 0.8970 - val_loss: 0.0673 - val_accuracy: 0.8820\n",
      "Epoch 42/50\n",
      "566/566 [==============================] - 8s 15ms/step - loss: 0.0811 - accuracy: 0.9016 - val_loss: 0.0637 - val_accuracy: 0.9160\n",
      "Epoch 43/50\n",
      "566/566 [==============================] - 8s 15ms/step - loss: 0.0847 - accuracy: 0.9012 - val_loss: 0.0617 - val_accuracy: 0.9138\n",
      "Epoch 44/50\n",
      "566/566 [==============================] - 8s 15ms/step - loss: 0.0815 - accuracy: 0.8948 - val_loss: 0.0616 - val_accuracy: 0.9226\n",
      "Epoch 45/50\n",
      "566/566 [==============================] - 8s 15ms/step - loss: 0.0806 - accuracy: 0.9013 - val_loss: 0.0637 - val_accuracy: 0.8979\n",
      "Epoch 46/50\n",
      "566/566 [==============================] - 8s 15ms/step - loss: 0.0833 - accuracy: 0.8980 - val_loss: 0.0653 - val_accuracy: 0.8800\n",
      "Epoch 47/50\n",
      "566/566 [==============================] - 8s 14ms/step - loss: 0.0797 - accuracy: 0.8952 - val_loss: 0.0612 - val_accuracy: 0.8828\n",
      "Epoch 48/50\n",
      "566/566 [==============================] - 8s 15ms/step - loss: 0.0789 - accuracy: 0.8988 - val_loss: 0.0625 - val_accuracy: 0.8846\n",
      "Epoch 49/50\n",
      "566/566 [==============================] - 8s 14ms/step - loss: 0.0811 - accuracy: 0.9014 - val_loss: 0.0632 - val_accuracy: 0.8848\n",
      "Epoch 50/50\n",
      "566/566 [==============================] - 8s 15ms/step - loss: 0.0800 - accuracy: 0.9024 - val_loss: 0.0623 - val_accuracy: 0.9021\n"
     ]
    }
   ],
   "source": [
    "# Train the model\n",
    "\n",
    "# Reset the state in case we run it more than one time\n",
    "model.reset_states()\n",
    "\n",
    "# Early stopping callback for when we don't progress any more\n",
    "cb = keras.callbacks.EarlyStopping(\n",
    "    monitor='accuracy', patience=4, restore_best_weights=True, min_delta=0.005)\n",
    "\n",
    "imhistory = model.fit(x=x_train, y=y_train, epochs=75, validation_split=0.2, callbacks=[cb])"
   ]
  },
  {
   "cell_type": "code",
   "execution_count": 53,
   "id": "6086978c",
   "metadata": {},
   "outputs": [
    {
     "name": "stdout",
     "output_type": "stream",
     "text": [
      "177/177 [==============================] - 1s 7ms/step - loss: 0.0599 - accuracy: 0.9045\n"
     ]
    },
    {
     "data": {
      "text/plain": [
       "[0.05989319831132889, 0.9045093059539795]"
      ]
     },
     "execution_count": 53,
     "metadata": {},
     "output_type": "execute_result"
    }
   ],
   "source": [
    "model.evaluate(x_test, y_test)"
   ]
  },
  {
   "cell_type": "code",
   "execution_count": 54,
   "id": "def20272",
   "metadata": {},
   "outputs": [],
   "source": [
    "model.save('models/simple_cnn_example.hdf5')"
   ]
  },
  {
   "cell_type": "code",
   "execution_count": null,
   "id": "ae5be572",
   "metadata": {},
   "outputs": [],
   "source": []
  }
 ],
 "metadata": {
  "kernelspec": {
   "display_name": "Python 3",
   "language": "python",
   "name": "python3"
  },
  "language_info": {
   "codemirror_mode": {
    "name": "ipython",
    "version": 3
   },
   "file_extension": ".py",
   "mimetype": "text/x-python",
   "name": "python",
   "nbconvert_exporter": "python",
   "pygments_lexer": "ipython3",
   "version": "3.8.8"
  }
 },
 "nbformat": 4,
 "nbformat_minor": 5
}